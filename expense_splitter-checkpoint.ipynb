{
 "cells": [
  {
   "cell_type": "code",
   "execution_count": 1,
   "id": "912072ac-c6f3-4e6f-9aeb-afecc9b8da7f",
   "metadata": {},
   "outputs": [
    {
     "name": "stdin",
     "output_type": "stream",
     "text": [
      "Enter the total amount of the expense:  1200000\n",
      "Enter the number of people sharing the expense:  3\n"
     ]
    },
    {
     "name": "stdout",
     "output_type": "stream",
     "text": [
      "Please choose how to share the expense:\n",
      "1. Share the expense equally\n",
      "2. Share the expense unequally (custom input - split by %)\n",
      "3. Exit\n"
     ]
    },
    {
     "name": "stdin",
     "output_type": "stream",
     "text": [
      "=> Enter your number:  3\n"
     ]
    },
    {
     "name": "stdout",
     "output_type": "stream",
     "text": [
      "Good bye!\n"
     ]
    }
   ],
   "source": [
    "def calculate_split(total_amount: float, number_of_people: int, currency: str) -> None:\n",
    "    if number_of_people < 1:\n",
    "        raise ValueError(\"Number of people must be greater than one!\")\n",
    "        \n",
    "    if total_amount <= 0:\n",
    "        raise ValueError(\"Total amount must be greater than zero!\")\n",
    "    \n",
    "    flag = None #Mark by option\n",
    "    while True:\n",
    "        print(\"Please choose how to share the expense:\")\n",
    "        print(\"1. Share the expense equally\")\n",
    "        print(\"2. Share the expense unequally (custom input - split by %)\")\n",
    "        print(\"3. Exit\")\n",
    "        try:\n",
    "            selection: int = int(input(\"=> Enter your number: \"))\n",
    "        except ValueError as e:\n",
    "            print(f\"Error {e}. Please enter a valid integer!!!\")\n",
    "            continue\n",
    "        if selection == 1:\n",
    "            break\n",
    "        elif selection == 2:\n",
    "            flag = 1\n",
    "            break\n",
    "        elif selection == 3:\n",
    "            print(\"Good bye!\")\n",
    "            return \n",
    "        else:\n",
    "            print(\"!!!Invalid, please select again!!!\")\n",
    "            continue \n",
    "\n",
    "    if flag: \n",
    "        sum_percentage: float = 100.00\n",
    "        persons_lis = [0] * number_of_people\n",
    "        i = 0 \n",
    "        while i < len(persons_lis) - 1:\n",
    "            try:\n",
    "                person: float = float(input(f\"Person {i + 1} (<= {sum_percentage:,.2f}): \"))\n",
    "            except ValueError as e:\n",
    "                print(f\"Error {e}. Please enter a valid number!!!\")\n",
    "                continue\n",
    "            if 0 <= person <= sum_percentage:\n",
    "                persons_lis[i] = person\n",
    "                sum_percentage -= person\n",
    "                i += 1\n",
    "            else:\n",
    "                print(f\"The value you just entered exceeds the remaining percentage!!! ({sum_percentage:,.2f})\")\n",
    "                print(\"Please enter again!\")\n",
    "                continue\n",
    "\n",
    "        persons_lis[-1] = sum_percentage\n",
    "        value_lis = [total_amount * x / 100 for x in persons_lis] #list of share per person\n",
    "        for j in range(len(persons_lis)):\n",
    "            print(f\"Person {j + 1}: ({persons_lis[j]}%) neeeds to pay {currency} {value_lis[j]:,.2f}\")\n",
    "        print(f\"Total expenses: {currency} {total_amount:,.2f}\")\n",
    "        print(f\"Number of people: {number_of_people}\")\n",
    "    else:        \n",
    "        share_per_person: float = total_amount / number_of_people\n",
    "\n",
    "        print(f\"Total expenses: {currency} {total_amount:,.2f}\")\n",
    "        print(f\"Number of people: {number_of_people}\")\n",
    "        print(f\"Each person should pay: {currency} {share_per_person:,.2f}\")\n",
    "  \n",
    "def main() -> None:\n",
    "        try: \n",
    "            total_amount: float = float(input(\"Enter the total amount of the expense: \"))\n",
    "            number_of_people: int = int(input(\"Enter the number of people sharing the expense: \"))\n",
    "            calculate_split(total_amount, number_of_people, currency = \"VND\")\n",
    "        except ValueError as e:\n",
    "            print(f\"Error {e}\")\n",
    "            print(\"Please try again with valid value!\\n\")\n",
    "\n",
    "if __name__ == \"__main__\":\n",
    "    main()"
   ]
  }
 ],
 "metadata": {
  "kernelspec": {
   "display_name": "Python 3 (ipykernel)",
   "language": "python",
   "name": "python3"
  },
  "language_info": {
   "codemirror_mode": {
    "name": "ipython",
    "version": 3
   },
   "file_extension": ".py",
   "mimetype": "text/x-python",
   "name": "python",
   "nbconvert_exporter": "python",
   "pygments_lexer": "ipython3",
   "version": "3.11.8"
  }
 },
 "nbformat": 4,
 "nbformat_minor": 5
}
